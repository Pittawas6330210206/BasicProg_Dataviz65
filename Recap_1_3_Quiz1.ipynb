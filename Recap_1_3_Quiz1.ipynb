{
  "nbformat": 4,
  "nbformat_minor": 0,
  "metadata": {
    "colab": {
      "name": "Recap 1-3 Quiz1.ipynb",
      "provenance": [],
      "include_colab_link": true
    },
    "kernelspec": {
      "name": "python3",
      "display_name": "Python 3"
    },
    "language_info": {
      "name": "python"
    }
  },
  "cells": [
    {
      "cell_type": "markdown",
      "metadata": {
        "id": "view-in-github",
        "colab_type": "text"
      },
      "source": [
        "<a href=\"https://colab.research.google.com/github/Pittawas6330210206/BasicProg_Dataviz65/blob/main/Recap_1_3_Quiz1.ipynb\" target=\"_parent\"><img src=\"https://colab.research.google.com/assets/colab-badge.svg\" alt=\"Open In Colab\"/></a>"
      ]
    },
    {
      "cell_type": "markdown",
      "source": [
        "Quiz 1 \n",
        "\n",
        "คำนวณเวลาเป็นความต่างของเวลาเป็นวินาทีของช่วงเวลาต่อไปนี้โดยใช้คำสั่ง split() ช่วย และ print ออกมาให้สวยงาม\n",
        "\n",
        "* 09:11:50 - 12:30:15\n",
        "* 13:41:07 - 20:00:18\n",
        "* 21:30:15 - 00:00:00\n",
        "* 00:00:00 - 23:59:59\n",
        "\n",
        "\n",
        "\n",
        "\n",
        "\n"
      ],
      "metadata": {
        "id": "FKKg2s03yfKC"
      }
    },
    {
      "cell_type": "code",
      "source": [
        "#09:11:50 - 12:30:15\n",
        "ex =  '09:11:50'\n",
        "print (ex)\n",
        "ey = '12:30:15'\n",
        "print (ey)\n",
        "sp_ex = ex.split(':')\n",
        "print(sp_ex)\n",
        "sp_ey = ey.split(':')\n",
        "print(sp_ey)\n",
        "total_sec = ((int(sp_ey[0])*3600)+int(sp_ey[1])*60+int(sp_ey[2])) - ((int(sp_ex[0])*3600)+int(sp_ex[1])*60+int(sp_ex[2])) \n",
        "print(f'{ex} - {ey} แปลงเป็นความต่างเป็นวินาทีได้ {total_sec} วินาที')"
      ],
      "metadata": {
        "colab": {
          "base_uri": "https://localhost:8080/"
        },
        "id": "QOIv3VvDHQCh",
        "outputId": "d4093862-f8d5-494d-c40a-5cef0c6fcc95"
      },
      "execution_count": 56,
      "outputs": [
        {
          "output_type": "stream",
          "name": "stdout",
          "text": [
            "09:11:50\n",
            "12:30:15\n",
            "['09', '11', '50']\n",
            "['12', '30', '15']\n",
            "09:11:50 - 12:30:15 แปลงเป็นความต่างเป็นวินาทีได้ 11905 วินาที\n"
          ]
        }
      ]
    },
    {
      "cell_type": "code",
      "source": [
        "#13:41:07 - 20:00:18\n",
        "\n",
        "ex =  '13:41:07'\n",
        "print (ex)\n",
        "ey = '20:00:18'\n",
        "print (ey)\n",
        "sp_ex = ex.split(':')\n",
        "print(sp_ex)\n",
        "sp_ey = ey.split(':')\n",
        "print(sp_ey)\n",
        "total_sec = ((int(sp_ey[0])*3600)+int(sp_ey[1])*60+int(sp_ey[2])) - ((int(sp_ex[0])*3600)+int(sp_ex[1])*60+int(sp_ex[2])) \n",
        "print(f'{ex} - {ey} แปลงเป็นความต่างเป็นวินาทีได้ {total_sec} วินาที')"
      ],
      "metadata": {
        "colab": {
          "base_uri": "https://localhost:8080/"
        },
        "id": "bZYqW_nWBaoV",
        "outputId": "2a00736f-ed2f-40db-af46-c412f828eaf3"
      },
      "execution_count": 57,
      "outputs": [
        {
          "output_type": "stream",
          "name": "stdout",
          "text": [
            "13:41:07\n",
            "20:00:18\n",
            "['13', '41', '07']\n",
            "['20', '00', '18']\n",
            "13:41:07 - 20:00:18 แปลงเป็นความต่างเป็นวินาทีได้ 22751 วินาที\n"
          ]
        }
      ]
    },
    {
      "cell_type": "code",
      "source": [
        "#21:30:15 - 00:00:00\n",
        "ex =  '21:30:15'\n",
        "print (ex)\n",
        "ey = ' 24:00:00'\n",
        "print (ey)\n",
        "sp_ex = ex.split(':')\n",
        "print(sp_ex)\n",
        "sp_ey = ey.split(':')\n",
        "print(sp_ey)\n",
        "total_sec = ((int(sp_ey[0])*3600)+int(sp_ey[1])*60+int(sp_ey[2])) - ((int(sp_ex[0])*3600)+int(sp_ex[1])*60+int(sp_ex[2])) \n",
        "print(f'{ex} - {ey} แปลงเป็นความต่างเป็นวินาทีได้ {total_sec} วินาที')"
      ],
      "metadata": {
        "colab": {
          "base_uri": "https://localhost:8080/"
        },
        "id": "dKh8w69fBa2i",
        "outputId": "f6f075d6-cc96-4d64-b6a9-1fef00055aa2"
      },
      "execution_count": 58,
      "outputs": [
        {
          "output_type": "stream",
          "name": "stdout",
          "text": [
            "21:30:15\n",
            " 24:00:00\n",
            "['21', '30', '15']\n",
            "[' 24', '00', '00']\n",
            "21:30:15 -  24:00:00 แปลงเป็นความต่างเป็นวินาทีได้ 8985 วินาที\n"
          ]
        }
      ]
    },
    {
      "cell_type": "code",
      "source": [
        "#00:00:00 - 23:59:59\n",
        "\n",
        "ex =  '00:00:00'\n",
        "print (ex)\n",
        "ey = '23:59:59'\n",
        "print (ey)\n",
        "sp_ex = ex.split(':')\n",
        "print(sp_ex)\n",
        "sp_ey = ey.split(':')\n",
        "print(sp_ey)\n",
        "total_sec = ((int(sp_ey[0])*3600)+int(sp_ey[1])*60+int(sp_ey[2])) - ((int(sp_ex[0])*3600)+int(sp_ex[1])*60+int(sp_ex[2])) \n",
        "print(f'{ex} - {ey} แปลงเป็นความต่างเป็นวินาทีได้ {total_sec} วินาที')"
      ],
      "metadata": {
        "colab": {
          "base_uri": "https://localhost:8080/"
        },
        "id": "tCkSRQjrBbDP",
        "outputId": "300dede1-3868-4ef9-b366-b370ec85391f"
      },
      "execution_count": 59,
      "outputs": [
        {
          "output_type": "stream",
          "name": "stdout",
          "text": [
            "00:00:00\n",
            "23:59:59\n",
            "['00', '00', '00']\n",
            "['23', '59', '59']\n",
            "00:00:00 - 23:59:59 แปลงเป็นความต่างเป็นวินาทีได้ 86399 วินาที\n"
          ]
        }
      ]
    }
  ]
}